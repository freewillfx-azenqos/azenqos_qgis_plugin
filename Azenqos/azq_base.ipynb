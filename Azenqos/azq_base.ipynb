{
 "cells": [
  {
   "cell_type": "code",
   "execution_count": 1,
   "id": "d7d16c61-29dc-487a-8b6e-19574c7069c5",
   "metadata": {},
   "outputs": [],
   "source": [
    "%matplotlib inline"
   ]
  },
  {
   "cell_type": "code",
   "execution_count": 2,
   "id": "1b873a46-7692-4548-8a36-ded6db339dde",
   "metadata": {},
   "outputs": [],
   "source": [
    "import sys"
   ]
  },
  {
   "cell_type": "code",
   "execution_count": 3,
   "id": "d3a9bd58-87c0-4428-8d22-556b6720e220",
   "metadata": {},
   "outputs": [],
   "source": [
    "sys.path.append('/code/azq_report_gen')"
   ]
  },
  {
   "cell_type": "code",
   "execution_count": 4,
   "id": "9649c915-0f2b-45f1-9e94-3d378afa22c6",
   "metadata": {},
   "outputs": [],
   "source": [
    "import pg_engine"
   ]
  },
  {
   "cell_type": "code",
   "execution_count": null,
   "id": "6f1040bf-a55d-445c-ad75-8c6c65354b31",
   "metadata": {},
   "outputs": [],
   "source": [
    "dbcon = pg_engine.get_dbcon_for_pg_log_hash_list([!@#$LOG_LIST])"
   ]
  },
  {
   "cell_type": "code",
   "execution_count": null,
   "id": "bcf6c1a7",
   "metadata": {},
   "outputs": [],
   "source": [
    "import !@#$MODULE_NAME"
   ]
  },
  {
   "cell_type": "code",
   "execution_count": null,
   "id": "9c1e8749",
   "metadata": {},
   "outputs": [],
   "source": [
    "!@#$MODULE_FUNC"
   ]
  }
 ],
 "metadata": {
  "kernelspec": {
   "display_name": "Python 3.10.0 64-bit",
   "language": "python",
   "name": "python3"
  },
  "language_info": {
   "codemirror_mode": {
    "name": "ipython",
    "version": 3
   },
   "file_extension": ".py",
   "mimetype": "text/x-python",
   "name": "python",
   "nbconvert_exporter": "python",
   "pygments_lexer": "ipython3",
   "version": "3.10.0"
  },
  "vscode": {
   "interpreter": {
    "hash": "369f2c481f4da34e4445cda3fffd2e751bd1c4d706f27375911949ba6bb62e1c"
   }
  }
 },
 "nbformat": 4,
 "nbformat_minor": 5
}
